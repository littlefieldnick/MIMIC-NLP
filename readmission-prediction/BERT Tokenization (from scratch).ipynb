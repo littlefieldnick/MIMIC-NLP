{
 "cells": [
  {
   "cell_type": "code",
   "execution_count": null,
   "metadata": {},
   "outputs": [],
   "source": [
    "import pandas as pd\n",
    "import numpy as np\n",
    "import os\n",
    "import pickle\n",
    "\n",
    "import nltk\n",
    "nltk.download(\"stopwords\")\n",
    "nltk.download(\"wordnet\")\n",
    "\n",
    "from nltk.util import bigrams, trigrams\n",
    "from nltk.tokenize import word_tokenize, sent_tokenize\n",
    "from nltk.corpus import stopwords\n",
    "\n",
    "import scispacy                                                            \n",
    "import spacy\n",
    "import en_core_sci_md \n",
    "\n",
    "import gensim\n",
    "from preprocess import *\n",
    "from heuristic_tokenize import *"
   ]
  },
  {
   "cell_type": "code",
   "execution_count": null,
   "metadata": {},
   "outputs": [],
   "source": [
    "notes = get_mimic_dataset(\"NOTEEVENTS\")\n",
    "adm = get_mimic_dataset(\"ADMISSIONS\")\n",
    "\n",
    "readmission_data = preprocess(adm, notes)\n",
    "\n",
    "train, valid, test = train_valid_test_split(readmission_data, \"SUBSAMPLE\")"
   ]
  },
  {
   "cell_type": "code",
   "execution_count": null,
   "metadata": {},
   "outputs": [],
   "source": [
    "# train.to_csv(\"train_subsample.csv\")"
   ]
  },
  {
   "cell_type": "code",
   "execution_count": null,
   "metadata": {},
   "outputs": [],
   "source": [
    "nlp = en_core_sci_md.load()"
   ]
  },
  {
   "cell_type": "code",
   "execution_count": null,
   "metadata": {},
   "outputs": [],
   "source": [
    "from tqdm import tqdm"
   ]
  },
  {
   "cell_type": "code",
   "execution_count": null,
   "metadata": {},
   "outputs": [],
   "source": [
    "sectioned = []\n",
    "for note in tqdm(train.TEXT):\n",
    "    try:\n",
    "        processed = sent_tokenize_rules(str(note)) # using str(note) prevents TypeError for nan occurring at end of some notes\n",
    "        processed = [nlp(sent) for sent in processed]\n",
    "        sectioned.append(processed)\n",
    "    except AttributeError:\n",
    "        continue\n",
    "    \n",
    "        "
   ]
  },
  {
   "cell_type": "code",
   "execution_count": null,
   "metadata": {},
   "outputs": [],
   "source": [
    "bert_files = \"/home/littlefield/MIMIC-NLP/readmission-prediction/data/bert\""
   ]
  },
  {
   "cell_type": "code",
   "execution_count": null,
   "metadata": {},
   "outputs": [],
   "source": [
    "num_files = 4\n",
    "partition_size = len(sectioned) // num_files"
   ]
  },
  {
   "cell_type": "code",
   "execution_count": null,
   "metadata": {},
   "outputs": [],
   "source": [
    "if not os.path.exists(bert_files):\n",
    "    os.mkdir(bert_files)\n",
    "\n",
    "file_count = 0\n",
    "for part, file_num in zip(range(0, len(sectioned), partition_size), range(num_files)):\n",
    "    with open(bert_files + '/train_under_sent_{}.pkl'.format(file_num), 'wb') as f:\n",
    "        pickle.dump(sectioned, f)"
   ]
  },
  {
   "cell_type": "code",
   "execution_count": null,
   "metadata": {},
   "outputs": [],
   "source": [
    "class ClinicalNoteTokenizer():\n",
    "    "
   ]
  },
  {
   "cell_type": "code",
   "execution_count": null,
   "metadata": {},
   "outputs": [],
   "source": [
    "sectioned = []\n",
    "for note in tqdm(test.TEXT):\n",
    "    try:\n",
    "        processed = sent_tokenize_rules(str(note)) # using str(note) prevents TypeError for nan occurring at end of some notes\n",
    "        processed = [nlp(sent) for sent in processed]\n",
    "        sectioned.append(processed)\n",
    "    except AttributeError:\n",
    "        continue"
   ]
  },
  {
   "cell_type": "code",
   "execution_count": null,
   "metadata": {},
   "outputs": [],
   "source": [
    "num_files = 4\n",
    "partition_size = len(sectioned) // num_files"
   ]
  },
  {
   "cell_type": "code",
   "execution_count": null,
   "metadata": {},
   "outputs": [],
   "source": [
    "file_count = 0\n",
    "for part, file_num in zip(range(0, len(sectioned), partition_size), range(num_files)):\n",
    "    with open(bert_files + '/test_under_sent_{}.pkl'.format(file_num), 'wb') as f:\n",
    "        pickle.dump(sectioned, f)"
   ]
  },
  {
   "cell_type": "code",
   "execution_count": null,
   "metadata": {},
   "outputs": [],
   "source": [
    "sectioned = []\n",
    "for note in tqdm(valid.TEXT):\n",
    "    try:\n",
    "        processed = sent_tokenize_rules(str(note)) # using str(note) prevents TypeError for nan occurring at end of some notes\n",
    "        processed = [nlp(sent) for sent in processed]\n",
    "        sectioned.append(processed)\n",
    "    except AttributeError:\n",
    "        continue"
   ]
  },
  {
   "cell_type": "code",
   "execution_count": null,
   "metadata": {},
   "outputs": [],
   "source": [
    "num_files = 4\n",
    "partition_size = len(sectioned) // num_files\n",
    "\n",
    "file_count = 0\n",
    "for part, file_num in zip(range(0, len(sectioned), partition_size), range(num_files)):\n",
    "    with open(bert_files + '/valid_subsample_sent_{}.pkl'.format(file_num), 'wb') as f:\n",
    "        pickle.dump(sectioned, f)"
   ]
  },
  {
   "cell_type": "code",
   "execution_count": null,
   "metadata": {},
   "outputs": [],
   "source": []
  }
 ],
 "metadata": {
  "kernelspec": {
   "display_name": "Python 3",
   "language": "python",
   "name": "python3"
  },
  "language_info": {
   "codemirror_mode": {
    "name": "ipython",
    "version": 3
   },
   "file_extension": ".py",
   "mimetype": "text/x-python",
   "name": "python",
   "nbconvert_exporter": "python",
   "pygments_lexer": "ipython3",
   "version": "3.6.8"
  }
 },
 "nbformat": 4,
 "nbformat_minor": 2
}
